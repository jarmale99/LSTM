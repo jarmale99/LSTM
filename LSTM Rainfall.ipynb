{
 "cells": [
  {
   "cell_type": "code",
   "execution_count": 1,
   "metadata": {},
   "outputs": [],
   "source": [
    "import math\n",
    "import pandas_datareader as web\n",
    "import numpy as np\n",
    "import pandas as pd\n",
    "from sklearn.preprocessing import MinMaxScaler\n",
    "from keras.models import Sequential\n",
    "from tensorflow.keras import layers\n",
    "# from tensorflow.keras.layers import Sequential\n",
    "import matplotlib.pyplot as plt\n",
    "from tensorflow import keras\n",
    "from tensorflow.keras.layers import LSTM\n",
    "plt.style.use('fivethirtyeight')\n",
    "from keras.layers import Activation, Dense\n",
    "import requests\n",
    "from tkinter import *\n",
    "import math\n",
    "import pprint"
   ]
  },
  {
   "cell_type": "code",
   "execution_count": 2,
   "metadata": {},
   "outputs": [],
   "source": [
    "dataset = pd.read_csv('Updated22.csv', usecols=['Year','Month','Day','avgtempC','windspeedKmph','humidity', 'visibilityKm','pressureInches','cloudcover','HeatIndexC','weatherDesc','totalprecipMM'])"
   ]
  },
  {
   "cell_type": "code",
   "execution_count": 3,
   "metadata": {
    "scrolled": false
   },
   "outputs": [
    {
     "data": {
      "text/html": [
       "<div>\n",
       "<style scoped>\n",
       "    .dataframe tbody tr th:only-of-type {\n",
       "        vertical-align: middle;\n",
       "    }\n",
       "\n",
       "    .dataframe tbody tr th {\n",
       "        vertical-align: top;\n",
       "    }\n",
       "\n",
       "    .dataframe thead th {\n",
       "        text-align: right;\n",
       "    }\n",
       "</style>\n",
       "<table border=\"1\" class=\"dataframe\">\n",
       "  <thead>\n",
       "    <tr style=\"text-align: right;\">\n",
       "      <th></th>\n",
       "      <th>Year</th>\n",
       "      <th>Month</th>\n",
       "      <th>Day</th>\n",
       "      <th>avgtempC</th>\n",
       "      <th>windspeedKmph</th>\n",
       "      <th>humidity</th>\n",
       "      <th>visibilityKm</th>\n",
       "      <th>pressureInches</th>\n",
       "      <th>cloudcover</th>\n",
       "      <th>HeatIndexC</th>\n",
       "      <th>weatherDesc</th>\n",
       "      <th>totalprecipMM</th>\n",
       "    </tr>\n",
       "  </thead>\n",
       "  <tbody>\n",
       "    <tr>\n",
       "      <th>0</th>\n",
       "      <td>2008</td>\n",
       "      <td>7</td>\n",
       "      <td>1</td>\n",
       "      <td>24</td>\n",
       "      <td>16</td>\n",
       "      <td>67</td>\n",
       "      <td>10</td>\n",
       "      <td>30</td>\n",
       "      <td>60</td>\n",
       "      <td>26</td>\n",
       "      <td>1</td>\n",
       "      <td>0.3</td>\n",
       "    </tr>\n",
       "    <tr>\n",
       "      <th>1</th>\n",
       "      <td>2008</td>\n",
       "      <td>7</td>\n",
       "      <td>2</td>\n",
       "      <td>24</td>\n",
       "      <td>16</td>\n",
       "      <td>69</td>\n",
       "      <td>10</td>\n",
       "      <td>30</td>\n",
       "      <td>58</td>\n",
       "      <td>26</td>\n",
       "      <td>1</td>\n",
       "      <td>3.9</td>\n",
       "    </tr>\n",
       "    <tr>\n",
       "      <th>2</th>\n",
       "      <td>2008</td>\n",
       "      <td>7</td>\n",
       "      <td>3</td>\n",
       "      <td>25</td>\n",
       "      <td>12</td>\n",
       "      <td>68</td>\n",
       "      <td>9</td>\n",
       "      <td>30</td>\n",
       "      <td>39</td>\n",
       "      <td>26</td>\n",
       "      <td>1</td>\n",
       "      <td>9.8</td>\n",
       "    </tr>\n",
       "    <tr>\n",
       "      <th>3</th>\n",
       "      <td>2008</td>\n",
       "      <td>7</td>\n",
       "      <td>4</td>\n",
       "      <td>24</td>\n",
       "      <td>12</td>\n",
       "      <td>71</td>\n",
       "      <td>9</td>\n",
       "      <td>30</td>\n",
       "      <td>33</td>\n",
       "      <td>26</td>\n",
       "      <td>1</td>\n",
       "      <td>8.8</td>\n",
       "    </tr>\n",
       "    <tr>\n",
       "      <th>4</th>\n",
       "      <td>2008</td>\n",
       "      <td>7</td>\n",
       "      <td>5</td>\n",
       "      <td>24</td>\n",
       "      <td>13</td>\n",
       "      <td>72</td>\n",
       "      <td>10</td>\n",
       "      <td>30</td>\n",
       "      <td>31</td>\n",
       "      <td>25</td>\n",
       "      <td>1</td>\n",
       "      <td>0.2</td>\n",
       "    </tr>\n",
       "    <tr>\n",
       "      <th>...</th>\n",
       "      <td>...</td>\n",
       "      <td>...</td>\n",
       "      <td>...</td>\n",
       "      <td>...</td>\n",
       "      <td>...</td>\n",
       "      <td>...</td>\n",
       "      <td>...</td>\n",
       "      <td>...</td>\n",
       "      <td>...</td>\n",
       "      <td>...</td>\n",
       "      <td>...</td>\n",
       "      <td>...</td>\n",
       "    </tr>\n",
       "    <tr>\n",
       "      <th>4704</th>\n",
       "      <td>2021</td>\n",
       "      <td>5</td>\n",
       "      <td>18</td>\n",
       "      <td>28</td>\n",
       "      <td>18</td>\n",
       "      <td>56</td>\n",
       "      <td>9</td>\n",
       "      <td>30</td>\n",
       "      <td>57</td>\n",
       "      <td>30</td>\n",
       "      <td>1</td>\n",
       "      <td>9.4</td>\n",
       "    </tr>\n",
       "    <tr>\n",
       "      <th>4705</th>\n",
       "      <td>2021</td>\n",
       "      <td>5</td>\n",
       "      <td>19</td>\n",
       "      <td>28</td>\n",
       "      <td>24</td>\n",
       "      <td>58</td>\n",
       "      <td>10</td>\n",
       "      <td>30</td>\n",
       "      <td>32</td>\n",
       "      <td>29</td>\n",
       "      <td>1</td>\n",
       "      <td>2.1</td>\n",
       "    </tr>\n",
       "    <tr>\n",
       "      <th>4706</th>\n",
       "      <td>2021</td>\n",
       "      <td>5</td>\n",
       "      <td>20</td>\n",
       "      <td>28</td>\n",
       "      <td>22</td>\n",
       "      <td>55</td>\n",
       "      <td>10</td>\n",
       "      <td>30</td>\n",
       "      <td>26</td>\n",
       "      <td>29</td>\n",
       "      <td>1</td>\n",
       "      <td>0.4</td>\n",
       "    </tr>\n",
       "    <tr>\n",
       "      <th>4707</th>\n",
       "      <td>2021</td>\n",
       "      <td>5</td>\n",
       "      <td>21</td>\n",
       "      <td>28</td>\n",
       "      <td>20</td>\n",
       "      <td>57</td>\n",
       "      <td>10</td>\n",
       "      <td>30</td>\n",
       "      <td>30</td>\n",
       "      <td>29</td>\n",
       "      <td>1</td>\n",
       "      <td>0.7</td>\n",
       "    </tr>\n",
       "    <tr>\n",
       "      <th>4708</th>\n",
       "      <td>2021</td>\n",
       "      <td>5</td>\n",
       "      <td>22</td>\n",
       "      <td>32</td>\n",
       "      <td>13</td>\n",
       "      <td>34</td>\n",
       "      <td>10</td>\n",
       "      <td>30</td>\n",
       "      <td>3</td>\n",
       "      <td>31</td>\n",
       "      <td>1</td>\n",
       "      <td>0.1</td>\n",
       "    </tr>\n",
       "  </tbody>\n",
       "</table>\n",
       "<p>4709 rows × 12 columns</p>\n",
       "</div>"
      ],
      "text/plain": [
       "      Year  Month  Day  avgtempC  windspeedKmph  humidity  visibilityKm  \\\n",
       "0     2008      7    1        24             16        67            10   \n",
       "1     2008      7    2        24             16        69            10   \n",
       "2     2008      7    3        25             12        68             9   \n",
       "3     2008      7    4        24             12        71             9   \n",
       "4     2008      7    5        24             13        72            10   \n",
       "...    ...    ...  ...       ...            ...       ...           ...   \n",
       "4704  2021      5   18        28             18        56             9   \n",
       "4705  2021      5   19        28             24        58            10   \n",
       "4706  2021      5   20        28             22        55            10   \n",
       "4707  2021      5   21        28             20        57            10   \n",
       "4708  2021      5   22        32             13        34            10   \n",
       "\n",
       "      pressureInches  cloudcover  HeatIndexC  weatherDesc  totalprecipMM  \n",
       "0                 30          60          26            1            0.3  \n",
       "1                 30          58          26            1            3.9  \n",
       "2                 30          39          26            1            9.8  \n",
       "3                 30          33          26            1            8.8  \n",
       "4                 30          31          25            1            0.2  \n",
       "...              ...         ...         ...          ...            ...  \n",
       "4704              30          57          30            1            9.4  \n",
       "4705              30          32          29            1            2.1  \n",
       "4706              30          26          29            1            0.4  \n",
       "4707              30          30          29            1            0.7  \n",
       "4708              30           3          31            1            0.1  \n",
       "\n",
       "[4709 rows x 12 columns]"
      ]
     },
     "execution_count": 3,
     "metadata": {},
     "output_type": "execute_result"
    }
   ],
   "source": [
    "dataset"
   ]
  },
  {
   "cell_type": "code",
   "execution_count": 4,
   "metadata": {},
   "outputs": [
    {
     "data": {
      "text/html": [
       "<div>\n",
       "<style scoped>\n",
       "    .dataframe tbody tr th:only-of-type {\n",
       "        vertical-align: middle;\n",
       "    }\n",
       "\n",
       "    .dataframe tbody tr th {\n",
       "        vertical-align: top;\n",
       "    }\n",
       "\n",
       "    .dataframe thead th {\n",
       "        text-align: right;\n",
       "    }\n",
       "</style>\n",
       "<table border=\"1\" class=\"dataframe\">\n",
       "  <thead>\n",
       "    <tr style=\"text-align: right;\">\n",
       "      <th></th>\n",
       "      <th>totalprecipMM</th>\n",
       "    </tr>\n",
       "  </thead>\n",
       "  <tbody>\n",
       "    <tr>\n",
       "      <th>0</th>\n",
       "      <td>0.3</td>\n",
       "    </tr>\n",
       "    <tr>\n",
       "      <th>1</th>\n",
       "      <td>3.9</td>\n",
       "    </tr>\n",
       "    <tr>\n",
       "      <th>2</th>\n",
       "      <td>9.8</td>\n",
       "    </tr>\n",
       "    <tr>\n",
       "      <th>3</th>\n",
       "      <td>8.8</td>\n",
       "    </tr>\n",
       "    <tr>\n",
       "      <th>4</th>\n",
       "      <td>0.2</td>\n",
       "    </tr>\n",
       "    <tr>\n",
       "      <th>...</th>\n",
       "      <td>...</td>\n",
       "    </tr>\n",
       "    <tr>\n",
       "      <th>4704</th>\n",
       "      <td>9.4</td>\n",
       "    </tr>\n",
       "    <tr>\n",
       "      <th>4705</th>\n",
       "      <td>2.1</td>\n",
       "    </tr>\n",
       "    <tr>\n",
       "      <th>4706</th>\n",
       "      <td>0.4</td>\n",
       "    </tr>\n",
       "    <tr>\n",
       "      <th>4707</th>\n",
       "      <td>0.7</td>\n",
       "    </tr>\n",
       "    <tr>\n",
       "      <th>4708</th>\n",
       "      <td>0.1</td>\n",
       "    </tr>\n",
       "  </tbody>\n",
       "</table>\n",
       "<p>4709 rows × 1 columns</p>\n",
       "</div>"
      ],
      "text/plain": [
       "      totalprecipMM\n",
       "0               0.3\n",
       "1               3.9\n",
       "2               9.8\n",
       "3               8.8\n",
       "4               0.2\n",
       "...             ...\n",
       "4704            9.4\n",
       "4705            2.1\n",
       "4706            0.4\n",
       "4707            0.7\n",
       "4708            0.1\n",
       "\n",
       "[4709 rows x 1 columns]"
      ]
     },
     "execution_count": 4,
     "metadata": {},
     "output_type": "execute_result"
    }
   ],
   "source": [
    "datasetCSV = dataset.filter(['totalprecipMM'])\n",
    "datasetCSV"
   ]
  },
  {
   "cell_type": "code",
   "execution_count": 5,
   "metadata": {
    "scrolled": true
   },
   "outputs": [
    {
     "data": {
      "image/png": "[encoded data removed]",
      "text/plain": [
       "<Figure size 2304x432 with 1 Axes>"
      ]
     },
     "metadata": {},
     "output_type": "display_data"
    }
   ],
   "source": [
    "#Visualise the given data\n",
    "plt.figure(figsize=(32,6))\n",
    "plt.title('Rainfall History')\n",
    "plt.plot(datasetCSV['totalprecipMM'])\n",
    "plt.xlabel('Date',fontsize=24)\n",
    "plt.ylabel('Rainfall in mm',fontsize=24)\n",
    "plt.show()"
   ]
  },
  {
   "cell_type": "code",
   "execution_count": 6,
   "metadata": {},
   "outputs": [],
   "source": [
    "# # # #Appending latest rain data to keep our dataset updated\n",
    "# city = 'Bengaluru'\n",
    "# apikey = '006ab4b0040b41589c3181415211905'\n",
    "\n",
    "\n",
    "# def apicall(city,apikey): \n",
    "    \n",
    "#     url = 'http://api.weatherapi.com/v1/current.json?key='+apikey+'&q='+city+'&aqi=no'\n",
    "#     response = requests.get(url)\n",
    "#     status =  (response.status_code)\n",
    "#     api_string_data = response.text\n",
    "#     print(\"This is the api call data:\\n\")\n",
    "#     print(api_string_data,\"\\n\")\n",
    "#     print(\"The value of rain in mm which we append to our database:\\n\")\n",
    "#     rain_mm = api_string_data[533:536]\n",
    "#     print(rain_mm)\n",
    "#     return rain_mm\n",
    "    \n",
    "    \n",
    "# to_append = apicall(city, apikey)"
   ]
  },
  {
   "cell_type": "code",
   "execution_count": 7,
   "metadata": {
    "scrolled": true
   },
   "outputs": [],
   "source": [
    "# dfnew = pd.DataFrame({\"totalprecipMM\":[to_append]})\n",
    "# dataset.append(dfnew, ignore_index = True)"
   ]
  },
  {
   "cell_type": "code",
   "execution_count": 8,
   "metadata": {
    "scrolled": false
   },
   "outputs": [
    {
     "name": "stdout",
     "output_type": "stream",
     "text": [
      "[[0.3]\n",
      " [3.9]\n",
      " [9.8]\n",
      " ...\n",
      " [0.4]\n",
      " [0.7]\n",
      " [0.1]]\n"
     ]
    }
   ],
   "source": [
    "## Converting the rain values into a numpy array\n",
    "datasetARR = datasetCSV.values\n",
    "print(datasetARR)"
   ]
  },
  {
   "cell_type": "code",
   "execution_count": 9,
   "metadata": {
    "scrolled": false
   },
   "outputs": [
    {
     "name": "stdout",
     "output_type": "stream",
     "text": [
      "4709\n",
      "<class 'numpy.ndarray'>\n"
     ]
    }
   ],
   "source": [
    "print(len(datasetARR))\n",
    "print(type(datasetARR))"
   ]
  },
  {
   "cell_type": "code",
   "execution_count": 10,
   "metadata": {},
   "outputs": [
    {
     "data": {
      "text/plain": [
       "3768"
      ]
     },
     "execution_count": 10,
     "metadata": {},
     "output_type": "execute_result"
    }
   ],
   "source": [
    "# Get the number of rows to train the model on\n",
    "training_data_len = math.ceil(len(datasetARR) * 0.8)\n",
    "training_data_len"
   ]
  },
  {
   "cell_type": "code",
   "execution_count": 11,
   "metadata": {},
   "outputs": [
    {
     "data": {
      "text/plain": [
       "array([[0.00151515],\n",
       "       [0.01969697],\n",
       "       [0.04949495],\n",
       "       ...,\n",
       "       [0.0020202 ],\n",
       "       [0.00353535],\n",
       "       [0.00050505]])"
      ]
     },
     "execution_count": 11,
     "metadata": {},
     "output_type": "execute_result"
    }
   ],
   "source": [
    "# Here we scale the data to process the input data before we present it to the neural network.\n",
    "scaler = MinMaxScaler(feature_range=(0,1))\n",
    "scaled_data = scaler.fit_transform(datasetARR)\n",
    "\n",
    "scaled_data"
   ]
  },
  {
   "cell_type": "code",
   "execution_count": 12,
   "metadata": {
    "scrolled": true
   },
   "outputs": [
    {
     "name": "stdout",
     "output_type": "stream",
     "text": [
      "[array([1.51515152e-03, 1.96969697e-02, 4.94949495e-02, 4.44444444e-02,\n",
      "       1.01010101e-03, 6.06060606e-03, 4.04040404e-03, 6.56565657e-03,\n",
      "       8.08080808e-03, 0.00000000e+00, 1.51515152e-02, 2.07070707e-02,\n",
      "       1.91919192e-02, 4.52020202e-01, 3.04545455e-01, 1.40404040e-01,\n",
      "       4.04040404e-02, 6.56565657e-02, 2.57575758e-02, 8.98989899e-02,\n",
      "       6.86868687e-02, 8.73737374e-02, 1.53030303e-01, 6.31313131e-02,\n",
      "       6.06060606e-03, 7.57575758e-03, 5.05050505e-03, 2.72727273e-02,\n",
      "       1.51515152e-03, 0.00000000e+00, 2.52525253e-03, 3.53535354e-03,\n",
      "       9.59595960e-03, 4.54545455e-03, 1.31313131e-02, 1.26262626e-02,\n",
      "       2.02020202e-03, 1.06060606e-02, 1.72222222e-01, 4.09090909e-02,\n",
      "       4.64646465e-02, 3.03030303e-03, 6.31313131e-02, 7.12121212e-02,\n",
      "       1.11111111e-02, 3.03030303e-03, 3.88888889e-02, 1.24242424e-01,\n",
      "       1.14141414e-01, 7.92929293e-02, 6.76767677e-02, 4.22727273e-02,\n",
      "       1.46464646e-02, 3.03030303e-03, 3.63636364e-02, 3.23232323e-02,\n",
      "       9.64646465e-02, 1.54040404e-01, 2.27777778e-01, 1.53535354e-01,\n",
      "       1.40909091e-01, 1.34343434e-01, 2.00505051e-01, 9.33333333e-01,\n",
      "       5.44444444e-01, 4.70707071e-01, 2.71717172e-01, 2.77777778e-01,\n",
      "       1.83838384e-01, 2.77777778e-02, 1.81818182e-02, 7.07070707e-03,\n",
      "       5.05050505e-04, 0.00000000e+00, 3.53535354e-03, 3.93939394e-02,\n",
      "       1.01010101e-03, 5.05050505e-04, 0.00000000e+00, 0.00000000e+00,\n",
      "       3.98989899e-02, 3.53535354e-02, 3.33333333e-02, 0.00000000e+00,\n",
      "       2.47474747e-02, 6.51515152e-02, 3.28282828e-02, 0.00000000e+00,\n",
      "       1.51515152e-03, 1.51515152e-03, 2.52525253e-02, 2.07070707e-02,\n",
      "       9.19191919e-03, 4.47979798e-02, 3.81818182e-02, 1.03686869e-01,\n",
      "       1.20050505e-01, 5.01515152e-02, 7.75757576e-02, 7.46969697e-02,\n",
      "       8.08080808e-02, 7.34343434e-02, 7.69696970e-02, 3.19696970e-02,\n",
      "       3.46464646e-02, 3.33333333e-02, 2.00505051e-02, 8.98484848e-02,\n",
      "       1.82777778e-01, 6.52525253e-02, 1.33686869e-01, 5.60606061e-02,\n",
      "       2.14949495e-01, 1.04393939e-01, 1.00959596e-01, 4.42020202e-01,\n",
      "       1.79545455e-01, 3.84343434e-02, 0.00000000e+00, 0.00000000e+00,\n",
      "       0.00000000e+00, 0.00000000e+00, 0.00000000e+00, 0.00000000e+00,\n",
      "       0.00000000e+00, 0.00000000e+00, 0.00000000e+00, 0.00000000e+00,\n",
      "       0.00000000e+00, 0.00000000e+00, 0.00000000e+00, 0.00000000e+00,\n",
      "       2.72727273e-02, 1.01010101e-03, 0.00000000e+00, 0.00000000e+00,\n",
      "       0.00000000e+00, 7.57575758e-03, 2.72727273e-02, 1.06060606e-02,\n",
      "       3.38383838e-02, 3.48484848e-02, 2.72727273e-02, 0.00000000e+00,\n",
      "       3.23232323e-02, 1.30303030e-01, 3.03030303e-03, 1.51515152e-03,\n",
      "       2.22222222e-02, 1.93434343e-01, 1.00505051e-01, 8.18181818e-02,\n",
      "       4.54545455e-02, 2.52525253e-02, 1.06060606e-02, 0.00000000e+00,\n",
      "       0.00000000e+00, 0.00000000e+00, 0.00000000e+00, 0.00000000e+00,\n",
      "       3.03030303e-03, 4.44444444e-02, 5.05050505e-04, 0.00000000e+00,\n",
      "       0.00000000e+00, 9.59595960e-03, 0.00000000e+00, 1.06060606e-02,\n",
      "       1.51515152e-03, 0.00000000e+00, 0.00000000e+00, 0.00000000e+00,\n",
      "       0.00000000e+00, 0.00000000e+00, 0.00000000e+00, 0.00000000e+00,\n",
      "       4.54545455e-03, 0.00000000e+00, 0.00000000e+00, 0.00000000e+00,\n",
      "       0.00000000e+00, 0.00000000e+00, 0.00000000e+00, 0.00000000e+00,\n",
      "       0.00000000e+00, 5.05050505e-04, 0.00000000e+00, 0.00000000e+00,\n",
      "       0.00000000e+00, 0.00000000e+00, 3.03030303e-03, 3.08080808e-02,\n",
      "       0.00000000e+00, 0.00000000e+00, 0.00000000e+00, 0.00000000e+00,\n",
      "       0.00000000e+00, 0.00000000e+00, 0.00000000e+00, 0.00000000e+00,\n",
      "       0.00000000e+00, 0.00000000e+00, 0.00000000e+00, 0.00000000e+00,\n",
      "       0.00000000e+00, 0.00000000e+00, 0.00000000e+00, 0.00000000e+00,\n",
      "       0.00000000e+00, 0.00000000e+00, 0.00000000e+00, 3.53535354e-03,\n",
      "       0.00000000e+00, 0.00000000e+00, 0.00000000e+00, 0.00000000e+00,\n",
      "       0.00000000e+00, 0.00000000e+00, 0.00000000e+00, 0.00000000e+00,\n",
      "       0.00000000e+00, 0.00000000e+00, 0.00000000e+00, 0.00000000e+00,\n",
      "       0.00000000e+00, 0.00000000e+00, 0.00000000e+00, 0.00000000e+00,\n",
      "       0.00000000e+00, 0.00000000e+00, 0.00000000e+00, 0.00000000e+00,\n",
      "       0.00000000e+00, 0.00000000e+00, 0.00000000e+00, 0.00000000e+00,\n",
      "       0.00000000e+00, 0.00000000e+00, 0.00000000e+00, 0.00000000e+00,\n",
      "       0.00000000e+00, 0.00000000e+00, 0.00000000e+00, 0.00000000e+00,\n",
      "       0.00000000e+00, 0.00000000e+00, 0.00000000e+00, 0.00000000e+00,\n",
      "       0.00000000e+00, 0.00000000e+00, 0.00000000e+00, 0.00000000e+00,\n",
      "       1.06060606e-02, 1.06060606e-01, 1.08585859e-01, 0.00000000e+00,\n",
      "       7.57575758e-03, 1.01010101e-02, 1.26262626e-02, 0.00000000e+00,\n",
      "       0.00000000e+00, 0.00000000e+00, 0.00000000e+00, 5.05050505e-04,\n",
      "       8.08080808e-03, 2.37373737e-02, 4.14141414e-02, 1.36363636e-02,\n",
      "       5.05050505e-04, 5.05050505e-03, 5.05050505e-03, 0.00000000e+00,\n",
      "       0.00000000e+00, 0.00000000e+00, 0.00000000e+00, 0.00000000e+00,\n",
      "       0.00000000e+00, 0.00000000e+00, 0.00000000e+00, 0.00000000e+00,\n",
      "       0.00000000e+00, 0.00000000e+00, 1.46464646e-02, 1.01010101e-03,\n",
      "       0.00000000e+00, 0.00000000e+00, 2.52525253e-03, 3.03030303e-03,\n",
      "       0.00000000e+00, 1.01010101e-03, 2.52525253e-02, 0.00000000e+00,\n",
      "       1.71717172e-02, 2.97979798e-02, 3.08080808e-02, 1.51515152e-03,\n",
      "       2.52525253e-03, 3.03030303e-03, 4.49494949e-02, 5.05050505e-03,\n",
      "       7.07070707e-03, 5.05050505e-04, 0.00000000e+00, 0.00000000e+00,\n",
      "       3.53535354e-03, 0.00000000e+00, 0.00000000e+00, 1.19696970e-01,\n",
      "       4.14141414e-03, 3.03030303e-03, 5.05050505e-04, 1.36363636e-02,\n",
      "       2.07070707e-02, 2.52525253e-03, 0.00000000e+00, 0.00000000e+00,\n",
      "       0.00000000e+00, 6.56565657e-03, 3.28282828e-02, 4.29292929e-02,\n",
      "       6.06060606e-03, 1.61616162e-02, 9.39393939e-02, 8.73737374e-02,\n",
      "       4.64646465e-02, 8.18181818e-02, 7.07070707e-03, 1.96969697e-02,\n",
      "       9.09090909e-03, 5.05050505e-03, 1.76767677e-02, 5.90909091e-02,\n",
      "       3.28282828e-02, 2.67676768e-02, 5.55555556e-03, 5.45454545e-02,\n",
      "       1.66666667e-02, 6.06060606e-03, 8.58585859e-03, 5.05050505e-03,\n",
      "       1.51515152e-03, 1.51515152e-03, 8.43434343e-02, 1.07070707e-01,\n",
      "       2.22222222e-02, 1.43434343e-01, 6.16161616e-02, 4.64646465e-02,\n",
      "       3.16666667e-01, 1.28282828e-01, 5.70707071e-02, 4.54545455e-02,\n",
      "       9.44444444e-02, 3.03030303e-03, 5.70707071e-02, 2.02020202e-03,\n",
      "       2.42424242e-02, 0.00000000e+00, 5.05050505e-03, 1.61616162e-02,\n",
      "       5.05050505e-04, 4.04040404e-03, 6.06060606e-02, 3.03030303e-02,\n",
      "       2.97979798e-02])]\n",
      "\n",
      "\n",
      "[0.009595959595959597]\n"
     ]
    }
   ],
   "source": [
    "#Create training dataset\n",
    "#Create the scaled training data set\n",
    "train_data = scaled_data[0:training_data_len, :]\n",
    "\n",
    "#Split the data into x_train and y_train data sets\n",
    "x_train = []\n",
    "y_train = []\n",
    "\n",
    "for i in range(365, len(train_data)):\n",
    "    x_train.append(train_data[i-365:i, 0])\n",
    "    y_train.append(train_data[i, 0])\n",
    "    if(i<=365):\n",
    "        print(x_train)\n",
    "        print() \n",
    "        print()\n",
    "        print(y_train)\n"
   ]
  },
  {
   "cell_type": "code",
   "execution_count": 13,
   "metadata": {},
   "outputs": [],
   "source": [
    "#Convert the x_train and y_train to numpy arrays\n",
    "x_train, y_train = np.array(x_train), np.array(y_train)"
   ]
  },
  {
   "cell_type": "code",
   "execution_count": 14,
   "metadata": {},
   "outputs": [
    {
     "name": "stdout",
     "output_type": "stream",
     "text": [
      "(3403, 365, 1)\n",
      "(3403,)\n"
     ]
    }
   ],
   "source": [
    "#Reshape the data to 3-D because LSTM model needs 3-D data\n",
    "x_train = np.reshape(x_train, (x_train.shape[0],x_train.shape[1], 1))\n",
    "print(x_train.shape)\n",
    "print(y_train.shape)"
   ]
  },
  {
   "cell_type": "code",
   "execution_count": 15,
   "metadata": {},
   "outputs": [],
   "source": [
    "#Build the stacked LSTM model\n",
    "model = Sequential()\n",
    "model.add(LSTM(50, return_sequences = True, input_shape = (x_train.shape[1], 1)))\n",
    "model.add(LSTM(50, activation='relu', return_sequences = False))\n",
    "model.add(Dense(25))\n",
    "model.add(Dense(1))"
   ]
  },
  {
   "cell_type": "code",
   "execution_count": 16,
   "metadata": {},
   "outputs": [],
   "source": [
    "#Compile the model\n",
    "model.compile(optimizer = 'adam', loss= 'mean_squared_error')"
   ]
  },
  {
   "cell_type": "code",
   "execution_count": 17,
   "metadata": {},
   "outputs": [
    {
     "name": "stdout",
     "output_type": "stream",
     "text": [
      "3403/3403 [==============================] - 381s 112ms/step - loss: 0.0020\n"
     ]
    },
    {
     "data": {
      "text/plain": [
       "<tensorflow.python.keras.callbacks.History at 0x16b1a4fbd48>"
      ]
     },
     "execution_count": 17,
     "metadata": {},
     "output_type": "execute_result"
    }
   ],
   "source": [
    "#Train the model\n",
    "model.fit(x_train, y_train, batch_size = 1, epochs=1)"
   ]
  },
  {
   "cell_type": "code",
   "execution_count": 18,
   "metadata": {},
   "outputs": [],
   "source": [
    "#Create the testing dataset\n",
    "test_data = scaled_data[training_data_len - 365:, :]\n",
    "\n",
    "#Create the datasets x_test and y_test\n",
    "x_test = []\n",
    "y_test = datasetARR[training_data_len:,:]\n",
    "\n",
    "for i in range(365, len(test_data)):\n",
    "    x_test.append(test_data[i-365:i, 0])"
   ]
  },
  {
   "cell_type": "code",
   "execution_count": 19,
   "metadata": {},
   "outputs": [],
   "source": [
    "#Convert the data to a numpy array\n",
    "x_test = np.array(x_test)"
   ]
  },
  {
   "cell_type": "code",
   "execution_count": 20,
   "metadata": {},
   "outputs": [],
   "source": [
    "# Reshape the data\n",
    "x_test = np.reshape(x_test, (x_test.shape[0], x_test.shape[1], 1))"
   ]
  },
  {
   "cell_type": "code",
   "execution_count": 21,
   "metadata": {},
   "outputs": [],
   "source": [
    "#Get the models predicted price values\n",
    "predictions = model.predict(x_test)\n",
    "predictions = scaler.inverse_transform(predictions)\n",
    "#We do reverse scale so that we can find the RMSE values"
   ]
  },
  {
   "cell_type": "code",
   "execution_count": 22,
   "metadata": {},
   "outputs": [
    {
     "name": "stdout",
     "output_type": "stream",
     "text": [
      "0.3753558558688026\n"
     ]
    }
   ],
   "source": [
    "#Get the root mean squared error (RMSE)\n",
    "RMSE = np.sqrt( np.mean(predictions - y_test)**2 )\n",
    "\n",
    "RMSE"
   ]
  },
  {
   "cell_type": "code",
   "execution_count": 23,
   "metadata": {},
   "outputs": [
    {
     "data": {
      "text/plain": [
       "<matplotlib.legend.Legend at 0x16b1a47cac8>"
      ]
     },
     "execution_count": 23,
     "metadata": {},
     "output_type": "execute_result"
    },
    {
     "data": {
      "image/png": "[encoded data removed]",
      "text/plain": [
       "<Figure size 1152x432 with 1 Axes>"
      ]
     },
     "metadata": {},
     "output_type": "display_data"
    }
   ],
   "source": [
    "import warnings\n",
    "warnings.filterwarnings(\"ignore\")\n",
    "\n",
    "\n",
    "#Plot the data\n",
    "train = datasetCSV[:training_data_len]\n",
    "valid = datasetCSV[training_data_len:]\n",
    "valid['Predictions'] = predictions\n",
    "# #Visualize the data\n",
    "plt.figure( figsize = (16,6))\n",
    "plt.title('Model')\n",
    "plt.xlabel('Data', fontsize = 18)\n",
    "plt.plot(train['totalprecipMM'])\n",
    "plt.plot(valid[['totalprecipMM', 'Predictions']])\n",
    "plt.legend(['Train', 'Val', 'Predictions'], loc = 'upper right')\n",
    "\n"
   ]
  },
  {
   "cell_type": "code",
   "execution_count": 24,
   "metadata": {
    "scrolled": false
   },
   "outputs": [
    {
     "name": "stdout",
     "output_type": "stream",
     "text": [
      "      totalprecipMM  Predictions\n",
      "3768            0.0     1.879199\n",
      "3769            0.2     1.442229\n",
      "3770            0.0     1.171064\n",
      "3771            0.0     0.982424\n",
      "3772            0.0     0.858787\n",
      "...             ...          ...\n",
      "4704            9.4     0.607924\n",
      "4705            2.1     3.368498\n",
      "4706            0.4     2.513431\n",
      "4707            0.7     1.863585\n",
      "4708            0.1     1.462554\n",
      "\n",
      "[941 rows x 2 columns]\n"
     ]
    }
   ],
   "source": [
    "#Show the actual rain and predicted Temp\n",
    "print(valid)\n",
    "# print(valid['Predictions'])"
   ]
  },
  {
   "cell_type": "code",
   "execution_count": 26,
   "metadata": {
    "scrolled": true
   },
   "outputs": [
    {
     "name": "stdout",
     "output_type": "stream",
     "text": [
      "\n",
      "This is the predicted rain in mm for today:\n",
      "\n",
      "0.001254\n"
     ]
    }
   ],
   "source": [
    "#Get the last 365 day rain values\n",
    "df = datasetARR\n",
    "last_365_days = df[4342:]\n",
    "\n",
    "#Scale the data to be values betweeen 0 and 1\n",
    "last_365_days_scaled = scaler.transform(last_365_days)\n",
    "\n",
    "#Create an empty list\n",
    "X_test = []\n",
    "\n",
    "#Append the past 365 days\n",
    "X_test.append(last_365_days_scaled)\n",
    "\n",
    "#Convert the X_test dataset to a numpy array\n",
    "X_test = np.array(X_test)\n",
    "\n",
    "#Reshape the data\n",
    "X_test = np.reshape(X_test, (X_test.shape[0], X_test.shape[1], 1))\n",
    "\n",
    "#Get the predicted scaled rain\n",
    "pred_rain = model.predict(X_test)\n",
    "pred_rain = scaler.inverse_transform(pred_rain)\n",
    "\n",
    "print('\\nThis is the predicted rain in mm for today:\\n')\n",
    "print(pred_rain)\n"
   ]
  },
  {
   "cell_type": "code",
   "execution_count": null,
   "metadata": {},
   "outputs": [],
   "source": [
    "import http.client\n",
    "import urllib\n",
    "import time\n",
    "\n",
    "key = \"1R57OC7KVYD74ELR\"  # Put your API Key here\n",
    "predicted_value = 555\n",
    "\n",
    "params = urllib.parse.urlencode({'field1': predicted_value, 'key': key})\n",
    "headers = {\"Content-typZZe\": \"application/x-www-form-urlencoded\", \"Accept\": \"text/plain\"}\n",
    "conn = http.client.HTTPConnection(\"api.thingspeak.com:80\")\n",
    "try:\n",
    "    conn.request(\"POST\", \"/update\", params, headers)\n",
    "    response = conn.getresponse()\n",
    "    print(predicted_value)\n",
    "    print(response.status, response.reason)\n",
    "    data = response.read()\n",
    "    conn.close()\n",
    "except:\n",
    "    print(\"connection failed\")"
   ]
  }
 ],
 "metadata": {
  "kernelspec": {
   "display_name": "Python 3",
   "language": "python",
   "name": "python3"
  },
  "language_info": {
   "codemirror_mode": {
    "name": "ipython",
    "version": 3
   },
   "file_extension": ".py",
   "mimetype": "text/x-python",
   "name": "python",
   "nbconvert_exporter": "python",
   "pygments_lexer": "ipython3",
   "version": "3.7.9"
  }
 },
 "nbformat": 4,
 "nbformat_minor": 4
}
