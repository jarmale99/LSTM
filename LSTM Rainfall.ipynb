{
 "cells": [
  {
   "cell_type": "code",
   "execution_count": 1,
   "metadata": {},
   "outputs": [],
   "source": [
    "import math\n",
    "import pandas_datareader as web\n",
    "import numpy as np\n",
    "import pandas as pd\n",
    "from sklearn.preprocessing import MinMaxScaler\n",
    "from keras.models import Sequential\n",
    "from tensorflow.keras import layers\n",
    "# from tensorflow.keras.layers import Sequential\n",
    "import matplotlib.pyplot as plt\n",
    "from tensorflow import keras\n",
    "from tensorflow.keras.layers import LSTM\n",
    "plt.style.use('fivethirtyeight')\n",
    "from keras.layers import Activation, Dense\n",
    "import requests\n",
    "from tkinter import *\n",
    "import math\n",
    "import pprint\n",
    "import warnings\n",
    "warnings.filterwarnings(\"ignore\")"
   ]
  },
  {
   "cell_type": "code",
   "execution_count": 2,
   "metadata": {},
   "outputs": [],
   "source": [
    "dataset = pd.read_csv('Updated2.csv', usecols=['Year','Month','Day','avgtempC','windspeedKmph','humidity', 'visibilityKm','pressureInches','cloudcover','HeatIndexC','weatherDesc','totalprecipMM'])"
   ]
  },
  {
   "cell_type": "code",
   "execution_count": 3,
   "metadata": {
    "scrolled": false
   },
   "outputs": [
    {
     "data": {
      "text/html": [
       "<div>\n",
       "<style scoped>\n",
       "    .dataframe tbody tr th:only-of-type {\n",
       "        vertical-align: middle;\n",
       "    }\n",
       "\n",
       "    .dataframe tbody tr th {\n",
       "        vertical-align: top;\n",
       "    }\n",
       "\n",
       "    .dataframe thead th {\n",
       "        text-align: right;\n",
       "    }\n",
       "</style>\n",
       "<table border=\"1\" class=\"dataframe\">\n",
       "  <thead>\n",
       "    <tr style=\"text-align: right;\">\n",
       "      <th></th>\n",
       "      <th>Year</th>\n",
       "      <th>Month</th>\n",
       "      <th>Day</th>\n",
       "      <th>avgtempC</th>\n",
       "      <th>windspeedKmph</th>\n",
       "      <th>humidity</th>\n",
       "      <th>visibilityKm</th>\n",
       "      <th>pressureInches</th>\n",
       "      <th>cloudcover</th>\n",
       "      <th>HeatIndexC</th>\n",
       "      <th>weatherDesc</th>\n",
       "      <th>totalprecipMM</th>\n",
       "    </tr>\n",
       "  </thead>\n",
       "  <tbody>\n",
       "    <tr>\n",
       "      <th>0</th>\n",
       "      <td>2008</td>\n",
       "      <td>7</td>\n",
       "      <td>1</td>\n",
       "      <td>24</td>\n",
       "      <td>16</td>\n",
       "      <td>67</td>\n",
       "      <td>10</td>\n",
       "      <td>30</td>\n",
       "      <td>60</td>\n",
       "      <td>26</td>\n",
       "      <td>1</td>\n",
       "      <td>0.3</td>\n",
       "    </tr>\n",
       "    <tr>\n",
       "      <th>1</th>\n",
       "      <td>2008</td>\n",
       "      <td>7</td>\n",
       "      <td>2</td>\n",
       "      <td>24</td>\n",
       "      <td>16</td>\n",
       "      <td>69</td>\n",
       "      <td>10</td>\n",
       "      <td>30</td>\n",
       "      <td>58</td>\n",
       "      <td>26</td>\n",
       "      <td>1</td>\n",
       "      <td>3.9</td>\n",
       "    </tr>\n",
       "    <tr>\n",
       "      <th>2</th>\n",
       "      <td>2008</td>\n",
       "      <td>7</td>\n",
       "      <td>3</td>\n",
       "      <td>25</td>\n",
       "      <td>12</td>\n",
       "      <td>68</td>\n",
       "      <td>9</td>\n",
       "      <td>30</td>\n",
       "      <td>39</td>\n",
       "      <td>26</td>\n",
       "      <td>1</td>\n",
       "      <td>9.8</td>\n",
       "    </tr>\n",
       "    <tr>\n",
       "      <th>3</th>\n",
       "      <td>2008</td>\n",
       "      <td>7</td>\n",
       "      <td>4</td>\n",
       "      <td>24</td>\n",
       "      <td>12</td>\n",
       "      <td>71</td>\n",
       "      <td>9</td>\n",
       "      <td>30</td>\n",
       "      <td>33</td>\n",
       "      <td>26</td>\n",
       "      <td>1</td>\n",
       "      <td>8.8</td>\n",
       "    </tr>\n",
       "    <tr>\n",
       "      <th>4</th>\n",
       "      <td>2008</td>\n",
       "      <td>7</td>\n",
       "      <td>5</td>\n",
       "      <td>24</td>\n",
       "      <td>13</td>\n",
       "      <td>72</td>\n",
       "      <td>10</td>\n",
       "      <td>30</td>\n",
       "      <td>31</td>\n",
       "      <td>25</td>\n",
       "      <td>1</td>\n",
       "      <td>0.2</td>\n",
       "    </tr>\n",
       "    <tr>\n",
       "      <th>...</th>\n",
       "      <td>...</td>\n",
       "      <td>...</td>\n",
       "      <td>...</td>\n",
       "      <td>...</td>\n",
       "      <td>...</td>\n",
       "      <td>...</td>\n",
       "      <td>...</td>\n",
       "      <td>...</td>\n",
       "      <td>...</td>\n",
       "      <td>...</td>\n",
       "      <td>...</td>\n",
       "      <td>...</td>\n",
       "    </tr>\n",
       "    <tr>\n",
       "      <th>4703</th>\n",
       "      <td>2021</td>\n",
       "      <td>5</td>\n",
       "      <td>17</td>\n",
       "      <td>30</td>\n",
       "      <td>21</td>\n",
       "      <td>49</td>\n",
       "      <td>10</td>\n",
       "      <td>30</td>\n",
       "      <td>12</td>\n",
       "      <td>31</td>\n",
       "      <td>1</td>\n",
       "      <td>0.1</td>\n",
       "    </tr>\n",
       "    <tr>\n",
       "      <th>4704</th>\n",
       "      <td>2021</td>\n",
       "      <td>5</td>\n",
       "      <td>18</td>\n",
       "      <td>28</td>\n",
       "      <td>18</td>\n",
       "      <td>56</td>\n",
       "      <td>9</td>\n",
       "      <td>30</td>\n",
       "      <td>57</td>\n",
       "      <td>30</td>\n",
       "      <td>1</td>\n",
       "      <td>9.4</td>\n",
       "    </tr>\n",
       "    <tr>\n",
       "      <th>4705</th>\n",
       "      <td>2021</td>\n",
       "      <td>5</td>\n",
       "      <td>19</td>\n",
       "      <td>28</td>\n",
       "      <td>24</td>\n",
       "      <td>58</td>\n",
       "      <td>10</td>\n",
       "      <td>30</td>\n",
       "      <td>32</td>\n",
       "      <td>29</td>\n",
       "      <td>1</td>\n",
       "      <td>2.1</td>\n",
       "    </tr>\n",
       "    <tr>\n",
       "      <th>4706</th>\n",
       "      <td>2021</td>\n",
       "      <td>5</td>\n",
       "      <td>20</td>\n",
       "      <td>28</td>\n",
       "      <td>22</td>\n",
       "      <td>55</td>\n",
       "      <td>10</td>\n",
       "      <td>30</td>\n",
       "      <td>26</td>\n",
       "      <td>29</td>\n",
       "      <td>1</td>\n",
       "      <td>0.4</td>\n",
       "    </tr>\n",
       "    <tr>\n",
       "      <th>4707</th>\n",
       "      <td>2021</td>\n",
       "      <td>5</td>\n",
       "      <td>21</td>\n",
       "      <td>28</td>\n",
       "      <td>20</td>\n",
       "      <td>57</td>\n",
       "      <td>10</td>\n",
       "      <td>30</td>\n",
       "      <td>30</td>\n",
       "      <td>29</td>\n",
       "      <td>1</td>\n",
       "      <td>0.7</td>\n",
       "    </tr>\n",
       "  </tbody>\n",
       "</table>\n",
       "<p>4708 rows × 12 columns</p>\n",
       "</div>"
      ],
      "text/plain": [
       "      Year  Month  Day  avgtempC  windspeedKmph  humidity  visibilityKm  \\\n",
       "0     2008      7    1        24             16        67            10   \n",
       "1     2008      7    2        24             16        69            10   \n",
       "2     2008      7    3        25             12        68             9   \n",
       "3     2008      7    4        24             12        71             9   \n",
       "4     2008      7    5        24             13        72            10   \n",
       "...    ...    ...  ...       ...            ...       ...           ...   \n",
       "4703  2021      5   17        30             21        49            10   \n",
       "4704  2021      5   18        28             18        56             9   \n",
       "4705  2021      5   19        28             24        58            10   \n",
       "4706  2021      5   20        28             22        55            10   \n",
       "4707  2021      5   21        28             20        57            10   \n",
       "\n",
       "      pressureInches  cloudcover  HeatIndexC  weatherDesc  totalprecipMM  \n",
       "0                 30          60          26            1            0.3  \n",
       "1                 30          58          26            1            3.9  \n",
       "2                 30          39          26            1            9.8  \n",
       "3                 30          33          26            1            8.8  \n",
       "4                 30          31          25            1            0.2  \n",
       "...              ...         ...         ...          ...            ...  \n",
       "4703              30          12          31            1            0.1  \n",
       "4704              30          57          30            1            9.4  \n",
       "4705              30          32          29            1            2.1  \n",
       "4706              30          26          29            1            0.4  \n",
       "4707              30          30          29            1            0.7  \n",
       "\n",
       "[4708 rows x 12 columns]"
      ]
     },
     "execution_count": 3,
     "metadata": {},
     "output_type": "execute_result"
    }
   ],
   "source": [
    "df = dataset\n",
    "dataset"
   ]
  },
  {
   "cell_type": "code",
   "execution_count": 4,
   "metadata": {
    "scrolled": true
   },
   "outputs": [
    {
     "data": {
      "image/png": "[encoded data removed]",
      "text/plain": [
       "<Figure size 2304x432 with 1 Axes>"
      ]
     },
     "metadata": {},
     "output_type": "display_data"
    }
   ],
   "source": [
    "#Visualise the closing temp\n",
    "plt.figure(figsize=(32,6))\n",
    "plt.title('Rainfall History')\n",
    "plt.plot(dataset['totalprecipMM'])\n",
    "plt.xlabel('Date',fontsize=24)\n",
    "plt.ylabel('Rainfall in mm',fontsize=24)\n",
    "plt.show()"
   ]
  },
  {
   "cell_type": "code",
   "execution_count": 5,
   "metadata": {},
   "outputs": [],
   "source": [
    "# # #Appending latest rain data to keep our dataset updated\n",
    "# city = 'Bengaluru'\n",
    "# apikey = '006ab4b0040b41589c3181415211905'\n",
    "\n",
    "\n",
    "# def apicall(city,apikey): \n",
    "    \n",
    "#     url = 'http://api.weatherapi.com/v1/current.json?key='+apikey+'&q='+city+'&aqi=no'\n",
    "#     response = requests.get(url)\n",
    "#     status =  (response.status_code)\n",
    "#     api_string_data = response.text\n",
    "#     print(\"This is the api call data:\\n\")\n",
    "#     print(api_string_data,\"\\n\")\n",
    "#     print(\"The value of rain in mm which we append to our database:\\n\")\n",
    "#     rain_mm = api_string_data[533:536]\n",
    "#     print(rain_mm)\n",
    "#     return rain_mm\n",
    "    \n",
    "    \n",
    "# to_append = apicall(city, apikey)"
   ]
  },
  {
   "cell_type": "code",
   "execution_count": 6,
   "metadata": {
    "scrolled": true
   },
   "outputs": [],
   "source": [
    "# dfnew = pd.DataFrame({\"totalprecipMM\":[to_append]})\n",
    "# dataset.append(dfnew, ignore_index = True)"
   ]
  },
  {
   "cell_type": "code",
   "execution_count": 7,
   "metadata": {
    "scrolled": false
   },
   "outputs": [
    {
     "name": "stdout",
     "output_type": "stream",
     "text": [
      "      totalprecipMM\n",
      "0               0.3\n",
      "1               3.9\n",
      "2               9.8\n",
      "3               8.8\n",
      "4               0.2\n",
      "...             ...\n",
      "4703            0.1\n",
      "4704            9.4\n",
      "4705            2.1\n",
      "4706            0.4\n",
      "4707            0.7\n",
      "\n",
      "[4708 rows x 1 columns]\n",
      "<class 'pandas.core.frame.DataFrame'>\n"
     ]
    }
   ],
   "source": [
    "## Converting the temp values into a numpy array\n",
    "data = dataset.filter(['totalprecipMM'])\n",
    "dataset = data.values\n",
    "print(data)\n",
    "print(type(data))"
   ]
  },
  {
   "cell_type": "code",
   "execution_count": 8,
   "metadata": {
    "scrolled": false
   },
   "outputs": [
    {
     "name": "stdout",
     "output_type": "stream",
     "text": [
      "4708\n"
     ]
    },
    {
     "data": {
      "text/plain": [
       "array([[0.3],\n",
       "       [3.9],\n",
       "       [9.8],\n",
       "       ...,\n",
       "       [2.1],\n",
       "       [0.4],\n",
       "       [0.7]])"
      ]
     },
     "execution_count": 8,
     "metadata": {},
     "output_type": "execute_result"
    }
   ],
   "source": [
    "print(len(dataset))\n",
    "dataset"
   ]
  },
  {
   "cell_type": "code",
   "execution_count": 9,
   "metadata": {},
   "outputs": [
    {
     "data": {
      "text/plain": [
       "3767"
      ]
     },
     "execution_count": 9,
     "metadata": {},
     "output_type": "execute_result"
    }
   ],
   "source": [
    "# Get the number of rows to train the model on\n",
    "training_data_len = math.ceil(len(dataset) * 0.8)\n",
    "training_data_len"
   ]
  },
  {
   "cell_type": "code",
   "execution_count": 10,
   "metadata": {},
   "outputs": [
    {
     "data": {
      "text/plain": [
       "array([[0.00151515],\n",
       "       [0.01969697],\n",
       "       [0.04949495],\n",
       "       ...,\n",
       "       [0.01060606],\n",
       "       [0.0020202 ],\n",
       "       [0.00353535]])"
      ]
     },
     "execution_count": 10,
     "metadata": {},
     "output_type": "execute_result"
    }
   ],
   "source": [
    "# Here we scale the data to process the input data before we present it to the neural network\n",
    "scaler = MinMaxScaler(feature_range=(0,1))\n",
    "scaled_data = scaler.fit_transform(dataset)\n",
    "\n",
    "scaled_data"
   ]
  },
  {
   "cell_type": "code",
   "execution_count": 11,
   "metadata": {
    "scrolled": true
   },
   "outputs": [
    {
     "name": "stdout",
     "output_type": "stream",
     "text": [
      "[array([0.00151515, 0.01969697, 0.04949495, 0.04444444, 0.0010101 ,\n",
      "       0.00606061, 0.0040404 , 0.00656566, 0.00808081, 0.        ,\n",
      "       0.01515152, 0.02070707, 0.01919192, 0.4520202 , 0.30454545,\n",
      "       0.14040404, 0.04040404, 0.06565657, 0.02575758, 0.08989899,\n",
      "       0.06868687, 0.08737374, 0.1530303 , 0.06313131, 0.00606061,\n",
      "       0.00757576, 0.00505051, 0.02727273, 0.00151515, 0.        ,\n",
      "       0.00252525, 0.00353535, 0.00959596, 0.00454545, 0.01313131,\n",
      "       0.01262626, 0.0020202 , 0.01060606, 0.17222222, 0.04090909,\n",
      "       0.04646465, 0.0030303 , 0.06313131, 0.07121212, 0.01111111,\n",
      "       0.0030303 , 0.03888889, 0.12424242, 0.11414141, 0.07929293,\n",
      "       0.06767677, 0.04227273, 0.01464646, 0.0030303 , 0.03636364,\n",
      "       0.03232323, 0.09646465, 0.1540404 , 0.22777778, 0.15353535])]\n",
      "\n",
      "\n",
      "[0.1409090909090909]\n"
     ]
    }
   ],
   "source": [
    "#Create training dataset\n",
    "#Create the scaled training data set\n",
    "train_data = scaled_data[0:training_data_len, :]\n",
    "\n",
    "#Split the data into x_train and y_train data sets\n",
    "x_train = []\n",
    "y_train = []\n",
    "\n",
    "for i in range(60, len(train_data)):\n",
    "    x_train.append(train_data[i-60:i, 0])\n",
    "    y_train.append(train_data[i, 0])\n",
    "    if(i<=60):\n",
    "        print(x_train)\n",
    "        print() \n",
    "        print()\n",
    "        print(y_train)\n"
   ]
  },
  {
   "cell_type": "code",
   "execution_count": 12,
   "metadata": {},
   "outputs": [],
   "source": [
    "#Convert the x_train and y_train to numpy arrays\n",
    "x_train, y_train = np.array(x_train), np.array(y_train)"
   ]
  },
  {
   "cell_type": "code",
   "execution_count": 13,
   "metadata": {},
   "outputs": [
    {
     "name": "stdout",
     "output_type": "stream",
     "text": [
      "(3707, 60, 1)\n",
      "(3707,)\n"
     ]
    }
   ],
   "source": [
    "#Reshape the data to 3-D because LSTM model needs 3-D data\n",
    "x_train = np.reshape(x_train, (x_train.shape[0],x_train.shape[1], 1))\n",
    "print(x_train.shape)\n",
    "print(y_train.shape)"
   ]
  },
  {
   "cell_type": "code",
   "execution_count": 14,
   "metadata": {},
   "outputs": [],
   "source": [
    "#Build the stacked LSTM model\n",
    "model = Sequential()\n",
    "model.add(LSTM(50, return_sequences = True, input_shape = (x_train.shape[1], 1)))\n",
    "model.add(LSTM(50, activation='relu', return_sequences = False))\n",
    "model.add(Dense(25))\n",
    "model.add(Dense(1))\n",
    "#Dense layer is the regular deeply connected neural network layer. It is most common and frequently used layer. \n",
    "#A Dense layer feeds all outputs from the previous layer to all its neurons, each neuron providing one output to the next layer."
   ]
  },
  {
   "cell_type": "code",
   "execution_count": 15,
   "metadata": {},
   "outputs": [],
   "source": [
    "#Compile the model\n",
    "model.compile(optimizer = 'adam', loss= 'mean_squared_error')"
   ]
  },
  {
   "cell_type": "code",
   "execution_count": 16,
   "metadata": {},
   "outputs": [
    {
     "name": "stdout",
     "output_type": "stream",
     "text": [
      "3707/3707 [==============================] - 100s 26ms/step - loss: 0.0027\n"
     ]
    },
    {
     "data": {
      "text/plain": [
       "<tensorflow.python.keras.callbacks.History at 0x28feb98e1c8>"
      ]
     },
     "execution_count": 16,
     "metadata": {},
     "output_type": "execute_result"
    }
   ],
   "source": [
    "#Train the model\n",
    "model.fit(x_train, y_train, batch_size = 1, epochs=1)"
   ]
  },
  {
   "cell_type": "code",
   "execution_count": 17,
   "metadata": {},
   "outputs": [],
   "source": [
    "#Create the testing dataset\n",
    "#Create a new array containing scaled values from index 3460 to \n",
    "test_data = scaled_data[training_data_len - 60:, :]\n",
    "#Create the datasets x_test and y_test\n",
    "x_test = []\n",
    "y_test = dataset[training_data_len:,:]\n",
    "\n",
    "for i in range(60, len(test_data)):\n",
    "    x_test.append(test_data[i-60:i, 0])"
   ]
  },
  {
   "cell_type": "code",
   "execution_count": 18,
   "metadata": {},
   "outputs": [],
   "source": [
    "#Convert the data to a numpy array\n",
    "x_test = np.array(x_test)"
   ]
  },
  {
   "cell_type": "code",
   "execution_count": 19,
   "metadata": {},
   "outputs": [],
   "source": [
    "# Reshape the data\n",
    "x_test = np.reshape(x_test, (x_test.shape[0], x_test.shape[1], 1))"
   ]
  },
  {
   "cell_type": "code",
   "execution_count": 20,
   "metadata": {},
   "outputs": [],
   "source": [
    "#Get the models predicted price values\n",
    "predictions = model.predict(x_test)\n",
    "predictions = scaler.inverse_transform(predictions)\n",
    "#We do reverse scale so that we can find the RMSE values"
   ]
  },
  {
   "cell_type": "code",
   "execution_count": 21,
   "metadata": {},
   "outputs": [
    {
     "data": {
      "text/plain": [
       "1.8411750470160426"
      ]
     },
     "execution_count": 21,
     "metadata": {},
     "output_type": "execute_result"
    }
   ],
   "source": [
    "#Get the root mean squared error (RMSE)\n",
    "RMSE = np.sqrt( np.mean(predictions - y_test)**2 )\n",
    "RMSE"
   ]
  },
  {
   "cell_type": "code",
   "execution_count": 22,
   "metadata": {
    "scrolled": true
   },
   "outputs": [
    {
     "name": "stdout",
     "output_type": "stream",
     "text": [
      "3767    4.517951\n",
      "3768    3.514400\n",
      "3769    2.935427\n",
      "3770    2.637581\n",
      "3771    2.441990\n",
      "          ...   \n",
      "4703    2.315001\n",
      "4704    2.329814\n",
      "4705    4.275177\n",
      "4706    4.049218\n",
      "4707    3.496588\n",
      "Name: Predictions, Length: 941, dtype: float32\n",
      "      totalprecipMM  Predictions\n",
      "3767            0.0     4.517951\n",
      "3768            0.0     3.514400\n",
      "3769            0.2     2.935427\n",
      "3770            0.0     2.637581\n",
      "3771            0.0     2.441990\n",
      "...             ...          ...\n",
      "4703            0.1     2.315001\n",
      "4704            9.4     2.329814\n",
      "4705            2.1     4.275177\n",
      "4706            0.4     4.049218\n",
      "4707            0.7     3.496588\n",
      "\n",
      "[941 rows x 2 columns]\n"
     ]
    },
    {
     "data": {
      "image/png": "[encoded data removed]",
      "text/plain": [
       "<Figure size 1152x432 with 1 Axes>"
      ]
     },
     "metadata": {},
     "output_type": "display_data"
    }
   ],
   "source": [
    "#Plot the data\n",
    "train = data[:training_data_len]\n",
    "valid = data[training_data_len:]\n",
    "valid['Predictions'] = predictions\n",
    "# #Visualize the data\n",
    "plt.figure( figsize = (16,6))\n",
    "plt.title('Model')\n",
    "plt.xlabel('Data', fontsize = 18)\n",
    "plt.plot(train['totalprecipMM'])\n",
    "plt.plot(valid[['totalprecipMM', 'Predictions']])\n",
    "plt.legend(['Train', 'Val', 'Predictions'], loc = 'upper right')\n",
    "# plt.show()\n",
    "print(valid['Predictions'])\n",
    "print(valid)"
   ]
  },
  {
   "cell_type": "code",
   "execution_count": 23,
   "metadata": {
    "scrolled": false
   },
   "outputs": [
    {
     "name": "stdout",
     "output_type": "stream",
     "text": [
      "      totalprecipMM  Predictions\n",
      "3767            0.0     4.517951\n",
      "3768            0.0     3.514400\n",
      "3769            0.2     2.935427\n",
      "3770            0.0     2.637581\n",
      "3771            0.0     2.441990\n",
      "...             ...          ...\n",
      "4703            0.1     2.315001\n",
      "4704            9.4     2.329814\n",
      "4705            2.1     4.275177\n",
      "4706            0.4     4.049218\n",
      "4707            0.7     3.496588\n",
      "\n",
      "[941 rows x 2 columns]\n"
     ]
    }
   ],
   "source": [
    "#Show the actual Temp and predicted Temp\n",
    "print(valid)"
   ]
  },
  {
   "cell_type": "code",
   "execution_count": 24,
   "metadata": {},
   "outputs": [
    {
     "name": "stdout",
     "output_type": "stream",
     "text": [
      "WARNING:tensorflow:Model was constructed with shape (None, 60, 1) for input KerasTensor(type_spec=TensorSpec(shape=(None, 60, 1), dtype=tf.float32, name='lstm_input'), name='lstm_input', description=\"created by layer 'lstm_input'\"), but it was called on an input with incompatible shape (None, 3690, 1).\n",
      "[[3.1431715]]\n",
      "This is the predicted rain in mm for today:\n"
     ]
    }
   ],
   "source": [
    "#Create a new dataframe\n",
    "df1 = df\n",
    "df1 = df1.filter(['totalprecipMM'])\n",
    "#Get the last 60 day Temp values and convert the dataframe to an array\n",
    "last_60_days = df1[-3690:].values\n",
    "#Scale the data to be values betweeen 0 and 1\n",
    "last_60_days_scaled = scaler.transform(last_60_days)\n",
    "#Create an empty list\n",
    "X_test = []\n",
    "#Append the past 60 days\n",
    "X_test.append(last_60_days_scaled)\n",
    "#Convert the X_test dataset to a numpy array\n",
    "X_test = np.array(X_test)\n",
    "#Reshape the data\n",
    "X_test = np.reshape(X_test, (X_test.shape[0], X_test.shape[1], 1))\n",
    "#Get the predicted scaled temp\n",
    "pred_rain = model.predict(X_test)\n",
    "pred_rain = scaler.inverse_transform(pred_rain)\n",
    "print(pred_rain)\n",
    "print('This is the predicted rain in mm for today:')"
   ]
  },
  {
   "cell_type": "code",
   "execution_count": null,
   "metadata": {},
   "outputs": [],
   "source": []
  }
 ],
 "metadata": {
  "kernelspec": {
   "display_name": "Python 3",
   "language": "python",
   "name": "python3"
  },
  "language_info": {
   "codemirror_mode": {
    "name": "ipython",
    "version": 3
   },
   "file_extension": ".py",
   "mimetype": "text/x-python",
   "name": "python",
   "nbconvert_exporter": "python",
   "pygments_lexer": "ipython3",
   "version": "3.7.9"
  }
 },
 "nbformat": 4,
 "nbformat_minor": 4
}
